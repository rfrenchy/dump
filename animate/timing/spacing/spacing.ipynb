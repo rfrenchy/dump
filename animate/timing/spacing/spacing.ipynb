{
 "cells": [
  {
   "cell_type": "markdown",
   "metadata": {},
   "source": [
    "# Spacing of drawings\n",
    "\n",
    "- Natural objects have a tendency to be at their max speed in the middle of going from *Point A* to *Point B* e.g. a piston. Also called **Simple Harmonic Motion**.\n",
    "\n",
    "## Types of Spacing\n",
    "\n",
    "- Halves\n",
    "\n",
    "- Thirds\n",
    "\n",
    "- Quarters"
   ]
  }
 ],
 "metadata": {
  "language_info": {
   "name": "python"
  }
 },
 "nbformat": 4,
 "nbformat_minor": 2
}
