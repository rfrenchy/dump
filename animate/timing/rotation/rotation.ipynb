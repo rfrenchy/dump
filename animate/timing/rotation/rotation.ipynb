{
 "cells": [
  {
   "cell_type": "markdown",
   "metadata": {},
   "source": [
    "# Rotating objects\n",
    "\n",
    "The mass of any body act as though concentrated at its center of gravity.\n",
    "\n",
    "- **Center of Gravity** - the point on an object where its distribution of mass is equal in all directions\n",
    "\n",
    "- The center of gravity changes on living/moving things e.g. humans, animals\n",
    "\n",
    "## fig/animation here\n",
    "\n",
    "- spin it on the arc\n",
    "\n",
    "Ω How much spin? To nature (or to audience/production you are making)"
   ]
  }
 ],
 "metadata": {
  "language_info": {
   "name": "python"
  }
 },
 "nbformat": 4,
 "nbformat_minor": 2
}
