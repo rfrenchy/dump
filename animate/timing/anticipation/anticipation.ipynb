{
 "cells": [
  {
   "cell_type": "markdown",
   "metadata": {},
   "source": [
    "# Anticipation\n",
    "\n",
    "Prepares the audience for the action. Make readable to lead audience into whats going to happen next.\n",
    "\n",
    "Anticipations can lead eye in busy scenes."
   ]
  }
 ],
 "metadata": {
  "language_info": {
   "name": "python"
  }
 },
 "nbformat": 4,
 "nbformat_minor": 2
}
