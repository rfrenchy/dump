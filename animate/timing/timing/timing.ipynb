{
 "cells": [
  {
   "cell_type": "markdown",
   "metadata": {},
   "source": [
    "## inanimate objects\n",
    "\n",
    "- inanimate objects move **predictably** under known forces\n",
    "\n",
    "object falls roughly ~9.8 m per second (accelerating)\n",
    "\n",
    "1/8 second - 0.08m - 3 frames\n",
    "1/4 second - 0.3m  - 6 frames\n",
    "1/2 second - 1.2m  - 12 frames\n",
    "1   second - 4.9m  - 24 frames\n",
    "\n",
    "### buoyancy\n",
    "\n",
    "\n",
    "## slow actions\n",
    "\n",
    "- Slower movements are harder to achieve and less suited to the animation medium. Productions tend to use live action for this instead, nature of that medium lends itself better to it.\n",
    "\n",
    "- The closer the drawings are, the slower the movement appears\n",
    "\n",
    "Ω Why? *Difficult in terms of craftmanship for an animator to draw an object that precisely for every small inch of movement.\n",
    "\n",
    "- Can use fades and motion blurs for a similar effect without the hardship of super-accurate drawings. If accurate enough, can hold for 3/4 frames\n",
    "\n",
    "## fast actions\n",
    "\n",
    "- Easier to animate than fast actions\n",
    "\n",
    "Ω Why? *Fast movements lend themselves to exaggeration, something cartoony animations are strong at"
   ]
  }
 ],
 "metadata": {
  "language_info": {
   "name": "python"
  }
 },
 "nbformat": 4,
 "nbformat_minor": 2
}
