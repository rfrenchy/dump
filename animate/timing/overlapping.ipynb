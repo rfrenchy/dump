{
 "cells": [
  {
   "cell_type": "markdown",
   "metadata": {},
   "source": [
    "# Overlapping Actions\n",
    "\n",
    "Time lags in movement of different parts of a figure e.g. arm, leg\n",
    "\n",
    "Ω why is this done?\n",
    "\n",
    "Key principles: momentum, inertia, and action, through a flexible joint."
   ]
  }
 ],
 "metadata": {
  "language_info": {
   "name": "python"
  }
 },
 "nbformat": 4,
 "nbformat_minor": 2
}
