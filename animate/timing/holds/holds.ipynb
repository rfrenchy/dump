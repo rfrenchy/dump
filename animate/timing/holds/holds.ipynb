{
 "cells": [
  {
   "cell_type": "markdown",
   "metadata": {},
   "source": [
    "# Holds\n",
    "\n",
    "## In-and-out of Holds\n",
    "\n",
    "## How long to hold Holds\n",
    "\n",
    "A character can hold a **balanced** looking pose forever, even if portraying tension. Not true for the inverse, cannot hold an unbalanced, awkward, extreme posese. These are used to frame in/out of.\n",
    "\n",
    "Ω No extreme too extreme? How far can you push boundaries for a given character/scene/picture?\n",
    "\n",
    "Hold drawings should work well on their own, i.e. you shouldn't need a series of drawings to look right. Opposite true of an action, which only look right as part of a series of drawings i.e. an animation.\n",
    "\n",
    "Ω Avoid balence in action sequences\n",
    "\n",
    "Long holds are more believable in graphic and stylised characters and objects because the more abstract nature of them leads the audience to use their imagination to fill the gaps.\n",
    "\n",
    "With realistic figures, you have to use *moving holds*, otherwise it will look *frozen*. e.g. figure has to blink every 3/5 seconds, shift weight from one foot to another etc.\n",
    "\n",
    "Ω Lots of known variations and timings for actions and holds\n",
    "\n",
    "### Static Gag\n",
    "\n",
    "### Freeze Position "
   ]
  }
 ],
 "metadata": {
  "language_info": {
   "name": "python"
  }
 },
 "nbformat": 4,
 "nbformat_minor": 2
}
