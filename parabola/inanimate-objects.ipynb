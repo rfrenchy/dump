{
 "cells": [
  {
   "cell_type": "markdown",
   "id": "8be760d6",
   "metadata": {},
   "source": [
    "# inanimate objects\n",
    "\n",
    "Inanimate objects move predictably under known forces.\n",
    "\n",
    "Objects generally fall with acceleration of ~9.8 meters per second. "
   ]
  },
  {
   "cell_type": "code",
   "execution_count": null,
   "id": "0d5e30fa",
   "metadata": {},
   "outputs": [],
   "source": [
    "import matplotlib.pyplot as plt\n",
    "\n",
    "from IPython.display import HTML\n",
    "from parabola import Plotter \n",
    "\n",
    "\n",
    "fig, anim = Plotter()\n",
    "\n",
    "plt.close(fig) \n",
    "\n",
    "HTML(anim.to_jshtml())"
   ]
  }
 ],
 "metadata": {
  "kernelspec": {
   "display_name": "Python 3",
   "language": "python",
   "name": "python3"
  },
  "language_info": {
   "codemirror_mode": {
    "name": "ipython",
    "version": 3
   },
   "file_extension": ".py",
   "mimetype": "text/x-python",
   "name": "python",
   "nbconvert_exporter": "python",
   "pygments_lexer": "ipython3",
   "version": "3.undefined.undefined"
  }
 },
 "nbformat": 4,
 "nbformat_minor": 5
}
